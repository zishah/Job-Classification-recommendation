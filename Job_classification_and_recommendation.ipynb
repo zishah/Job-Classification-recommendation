{
 "cells": [
  {
   "cell_type": "markdown",
   "id": "59616e3e",
   "metadata": {},
   "source": [
    "# Job Classifiction"
   ]
  },
  {
   "cell_type": "code",
   "execution_count": null,
   "id": "0bacfaf4",
   "metadata": {},
   "outputs": [],
   "source": [
    "import pandas as pd\n",
    "import numpy as np\n",
    "import re\n",
    "import string"
   ]
  },
  {
   "cell_type": "code",
   "execution_count": null,
   "id": "d50c8a4c",
   "metadata": {},
   "outputs": [],
   "source": [
    "\n",
    "from sklearn.model_selection import train_test_split\n",
    "from sklearn.feature_extraction.text import TfidfVectorizer\n",
    "from sklearn.utils.multiclass import unique_labels\n",
    "from sklearn.svm import LinearSVC\n",
    "import nltk\n",
    "from nltk.corpus import stopwords\n",
    "from sklearn.metrics import classification_report, accuracy_score\n",
    "from sklearn.preprocessing import LabelEncoder\n",
    "from sklearn.naive_bayes import MultinomialNB"
   ]
  },
  {
   "cell_type": "code",
   "execution_count": null,
   "id": "01b04085",
   "metadata": {},
   "outputs": [],
   "source": [
    "jobs = pd.read_csv(\"./Job_Posts.csv\") \n",
    "\n",
    "\n",
    "nltk.download('stopwords')\n",
    "STOPWORDS = set(stopwords.words('english'))\n",
    "\n",
    "def clean_text(text):\n",
    "    if pd.isna(text):\n",
    "        return \"\"\n",
    "    text = re.sub(r'<.*?>', ' ', text) \n",
    "    text = re.sub(r'[^a-zA-Z]', ' ', text) \n",
    "    text = text.lower()\n",
    "    text = \" \".join([word for word in text.split() if word not in STOPWORDS])\n",
    "    return text.strip()\n",
    "\n",
    "jobs['job_description_clean'] = jobs['job_description'].apply(clean_text)\n",
    "jobs = jobs.dropna(subset=['job_category1', 'job_description_clean'])\n",
    "\n",
    "\n",
    "jobs.head()"
   ]
  },
  {
   "cell_type": "code",
   "execution_count": null,
   "id": "4e0b7178",
   "metadata": {},
   "outputs": [],
   "source": [
    "label_encoder = LabelEncoder()\n",
    "jobs['job_category_encoded'] = label_encoder.fit_transform(jobs['job_category1'])\n",
    "\n",
    "X_train, X_test, y_train, y_test = train_test_split(jobs['job_description_clean'], jobs['job_category_encoded'], test_size=0.2, random_state=42)\n",
    "vectorizer = TfidfVectorizer(max_features=5000)\n",
    "X_train_vec = vectorizer.fit_transform(X_train)\n",
    "X_test_vec = vectorizer.transform(X_test)"
   ]
  },
  {
   "cell_type": "code",
   "execution_count": null,
   "id": "dac0dbd4",
   "metadata": {},
   "outputs": [],
   "source": [
    "model = LinearSVC()\n",
    "model.fit(X_train_vec, y_train)"
   ]
  },
  {
   "cell_type": "code",
   "execution_count": null,
   "id": "e051fe92",
   "metadata": {},
   "outputs": [],
   "source": [
    "y_pred = model.predict(X_test_vec)\n",
    "\n",
    "labels_used = unique_labels(y_test, y_pred)\n",
    "print(classification_report(y_test, y_pred, labels=labels_used, target_names=label_encoder.inverse_transform(labels_used)))"
   ]
  },
  {
   "cell_type": "code",
   "execution_count": null,
   "id": "273262fb",
   "metadata": {},
   "outputs": [],
   "source": [
    "def predict_category(text):\n",
    "    text_clean = clean_text(text)\n",
    "    vec = vectorizer.transform([text_clean])\n",
    "    pred = model.predict(vec)\n",
    "    return label_encoder.inverse_transform(pred)[0]\n",
    "\n",
    "# Example\n",
    "print(predict_category(\"Looking for someone with strong python skills.\"))"
   ]
  },
  {
   "cell_type": "markdown",
   "id": "f177af4e",
   "metadata": {},
   "source": [
    "# Job Recommendations"
   ]
  },
  {
   "cell_type": "code",
   "execution_count": null,
   "id": "3adc322d",
   "metadata": {},
   "outputs": [],
   "source": [
    "df = pd.read_csv(\"./Resume.csv\")\n",
    "\n",
    "df.dropna(inplace=True)\n",
    "\n",
    "def clean_text(text):\n",
    "    text = text.lower()\n",
    "    text = re.sub(r'<[^>]+>', '', text)\n",
    "    text = re.sub(r'\\d+', '', text)\n",
    "    text = text.translate(str.maketrans('', '', string.punctuation))\n",
    "    text = re.sub(r'\\s+', ' ', text) \n",
    "    return text.strip()\n",
    "\n",
    "df['Cleaned_Resume'] = df['Resume_str'].apply(clean_text)\n",
    "\n",
    "print(df[['Category', 'Cleaned_Resume']].head())\n",
    "\n",
    "#df.head()"
   ]
  },
  {
   "cell_type": "code",
   "execution_count": null,
   "id": "91c52d38",
   "metadata": {},
   "outputs": [
    {
     "name": "stdout",
     "output_type": "stream",
     "text": [
      "                        precision    recall  f1-score   support\n",
      "\n",
      "            ACCOUNTANT       0.77      0.79      0.78        29\n",
      "              ADVOCATE       0.69      0.30      0.42        30\n",
      "           AGRICULTURE       0.00      0.00      0.00         8\n",
      "               APPAREL       0.75      0.15      0.25        20\n",
      "                  ARTS       0.00      0.00      0.00        18\n",
      "            AUTOMOBILE       0.00      0.00      0.00         6\n",
      "              AVIATION       0.56      0.71      0.62        21\n",
      "               BANKING       0.85      0.48      0.61        23\n",
      "                   BPO       0.00      0.00      0.00         2\n",
      "  BUSINESS-DEVELOPMENT       0.40      0.63      0.49        27\n",
      "                  CHEF       0.81      0.71      0.76        24\n",
      "          CONSTRUCTION       0.94      0.44      0.60        34\n",
      "            CONSULTANT       0.50      0.05      0.09        20\n",
      "              DESIGNER       0.82      0.74      0.78        19\n",
      "         DIGITAL-MEDIA       1.00      0.08      0.15        25\n",
      "           ENGINEERING       0.55      0.57      0.56        21\n",
      "               FINANCE       0.31      0.63      0.41        19\n",
      "               FITNESS       0.43      0.32      0.36        19\n",
      "            HEALTHCARE       0.29      0.65      0.40        20\n",
      "                    HR       0.41      0.89      0.56        18\n",
      "INFORMATION-TECHNOLOGY       0.40      0.92      0.56        26\n",
      "      PUBLIC-RELATIONS       0.39      0.76      0.52        17\n",
      "                 SALES       0.46      0.55      0.50        29\n",
      "               TEACHER       0.61      0.64      0.62        22\n",
      "\n",
      "              accuracy                           0.51       497\n",
      "             macro avg       0.50      0.46      0.42       497\n",
      "          weighted avg       0.57      0.51      0.47       497\n",
      "\n"
     ]
    },
    {
     "name": "stderr",
     "output_type": "stream",
     "text": [
      "c:\\Users\\Zishan\\AppData\\Local\\Programs\\Python\\Python39\\lib\\site-packages\\sklearn\\metrics\\_classification.py:1565: UndefinedMetricWarning: Precision is ill-defined and being set to 0.0 in labels with no predicted samples. Use `zero_division` parameter to control this behavior.\n",
      "  _warn_prf(average, modifier, f\"{metric.capitalize()} is\", len(result))\n",
      "c:\\Users\\Zishan\\AppData\\Local\\Programs\\Python\\Python39\\lib\\site-packages\\sklearn\\metrics\\_classification.py:1565: UndefinedMetricWarning: Precision is ill-defined and being set to 0.0 in labels with no predicted samples. Use `zero_division` parameter to control this behavior.\n",
      "  _warn_prf(average, modifier, f\"{metric.capitalize()} is\", len(result))\n",
      "c:\\Users\\Zishan\\AppData\\Local\\Programs\\Python\\Python39\\lib\\site-packages\\sklearn\\metrics\\_classification.py:1565: UndefinedMetricWarning: Precision is ill-defined and being set to 0.0 in labels with no predicted samples. Use `zero_division` parameter to control this behavior.\n",
      "  _warn_prf(average, modifier, f\"{metric.capitalize()} is\", len(result))\n"
     ]
    }
   ],
   "source": [
    "vectorizer = TfidfVectorizer()\n",
    "X = vectorizer.fit_transform(df['Cleaned_Resume'])\n",
    "\n",
    "y = df['Category']\n",
    "\n",
    "X_train, X_test, y_train, y_test = train_test_split(X, y, test_size=0.2, random_state=42)\n",
    "\n",
    "clf = MultinomialNB()\n",
    "clf.fit(X_train, y_train)\n",
    "\n",
    "y_pred = clf.predict(X_test)\n",
    "print(classification_report(y_test, y_pred))"
   ]
  },
  {
   "cell_type": "markdown",
   "id": "903eb1ef",
   "metadata": {},
   "source": [
    "# True Job recommendations"
   ]
  },
  {
   "cell_type": "code",
   "execution_count": 46,
   "id": "b40ac0e0",
   "metadata": {},
   "outputs": [
    {
     "ename": "ModuleNotFoundError",
     "evalue": "No module named 'caas_jupyter_tools'",
     "output_type": "error",
     "traceback": [
      "\u001b[1;31m---------------------------------------------------------------------------\u001b[0m",
      "\u001b[1;31mModuleNotFoundError\u001b[0m                       Traceback (most recent call last)",
      "Cell \u001b[1;32mIn[46], line 37\u001b[0m\n\u001b[0;32m     35\u001b[0m recommendations \u001b[38;5;241m=\u001b[39m recommend_jobs(user_input, top_n\u001b[38;5;241m=\u001b[39m\u001b[38;5;241m5\u001b[39m)\n\u001b[0;32m     36\u001b[0m \u001b[38;5;28;01mimport\u001b[39;00m\u001b[38;5;250m \u001b[39m\u001b[38;5;21;01mpandas\u001b[39;00m\u001b[38;5;250m \u001b[39m\u001b[38;5;28;01mas\u001b[39;00m\u001b[38;5;250m \u001b[39m\u001b[38;5;21;01mpd\u001b[39;00m\n\u001b[1;32m---> 37\u001b[0m \u001b[38;5;28;01mfrom\u001b[39;00m\u001b[38;5;250m \u001b[39m\u001b[38;5;21;01mcaas_jupyter_tools\u001b[39;00m\u001b[38;5;250m \u001b[39m\u001b[38;5;28;01mimport\u001b[39;00m display_dataframe_to_user\n\u001b[0;32m     38\u001b[0m display_dataframe_to_user(name\u001b[38;5;241m=\u001b[39m\u001b[38;5;124m\"\u001b[39m\u001b[38;5;124mTop Job Recommendations\u001b[39m\u001b[38;5;124m\"\u001b[39m, dataframe\u001b[38;5;241m=\u001b[39mrecommendations)\n",
      "\u001b[1;31mModuleNotFoundError\u001b[0m: No module named 'caas_jupyter_tools'"
     ]
    }
   ],
   "source": [
    "from sklearn.metrics.pairwise import cosine_similarity\n",
    "\n",
    "# Step 1: Combine job title + description for matching\n",
    "jobs['combined_features'] = jobs['job_title'].fillna('') + ' ' + jobs['job_description'].fillna('')\n",
    "\n",
    "# Clean combined text\n",
    "jobs['combined_features_clean'] = jobs['combined_features'].apply(clean_text)\n",
    "\n",
    "# Vectorize job listings\n",
    "job_vectorizer = TfidfVectorizer(max_features=5000)\n",
    "job_vectors = job_vectorizer.fit_transform(jobs['combined_features_clean'])\n",
    "\n",
    "# Step 2: Function to recommend jobs\n",
    "def recommend_jobs(user_profile_text, top_n=5):\n",
    "    # Clean and vectorize user profile\n",
    "    user_clean = clean_text(user_profile_text)\n",
    "    user_vec = job_vectorizer.transform([user_clean])\n",
    "\n",
    "    # Compute cosine similarity\n",
    "    similarity_scores = cosine_similarity(user_vec, job_vectors).flatten()\n",
    "\n",
    "    # Get top N recommendations\n",
    "    top_indices = similarity_scores.argsort()[::-1][:top_n]\n",
    "    recommended_jobs = jobs.iloc[top_indices][['job_title', 'job_description', 'job_category1']]\n",
    "    recommended_jobs['similarity'] = similarity_scores[top_indices]\n",
    "    \n",
    "    return recommended_jobs\n",
    "\n",
    "# 🧪 Example Usage\n",
    "user_input = \"\"\"\n",
    "Skilled in Python, SQL, and data analysis. Experience in building machine learning models. \n",
    "Looking for roles in software development or data science.\n",
    "\"\"\"\n",
    "\n",
    "recommendations = recommend_jobs(user_input, top_n=5)\n",
    "import pandas as pd\n",
    "from caas_jupyter_tools import display_dataframe_to_user\n",
    "display_dataframe_to_user(name=\"Top Job Recommendations\", dataframe=recommendations)\n"
   ]
  }
 ],
 "metadata": {
  "kernelspec": {
   "display_name": "Python 3",
   "language": "python",
   "name": "python3"
  },
  "language_info": {
   "codemirror_mode": {
    "name": "ipython",
    "version": 3
   },
   "file_extension": ".py",
   "mimetype": "text/x-python",
   "name": "python",
   "nbconvert_exporter": "python",
   "pygments_lexer": "ipython3",
   "version": "3.9.1"
  }
 },
 "nbformat": 4,
 "nbformat_minor": 5
}
